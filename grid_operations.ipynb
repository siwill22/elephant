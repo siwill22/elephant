{
 "cells": [
  {
   "cell_type": "code",
   "execution_count": null,
   "id": "5b028e47-f276-43eb-b72f-0411e1970915",
   "metadata": {},
   "outputs": [],
   "source": [
    "import xarray as xr\n",
    "\n",
    "# ds is a dataArray\n",
    "\n",
    "ds=dat.copy()\n",
    "new_lon = np.arange(ds.lon[0], ds.lon[-1]+0.05, 0.05)\n",
    "new_lat = np.arange(ds.lat[0], ds.lat[-1]-0.05, -0.05)\n",
    "dsi = ds.interp(lat=new_lat, lon=new_lon)"
   ]
  },
  {
   "cell_type": "code",
   "execution_count": null,
   "id": "08941fbd-05cf-4b0d-918e-e20fcae67631",
   "metadata": {},
   "outputs": [],
   "source": [
    "# using pyresample: define the coordinates we want to sample onto\n",
    "area_def = geometry.GridDefinition(lons=gridXX-180, \\\n",
    "                                   lats=gridYY)\n",
    "\n",
    "# define the coordinates we want to sample from\n",
    "Xg,Yg = np.meshgrid(Xg,Yg)\n",
    "grid_def = geometry.GridDefinition(lons=Xg, \\\n",
    "                                   lats=Yg)\n",
    "\n",
    "\n",
    "msg_con_nn = image.ImageContainerNearest(Grid, grid_def, radius_of_influence=50000)\n",
    "area_con_nn = msg_con_nn.resample(area_def)\n",
    "ResampledGrid = area_con_nn.image_data"
   ]
  },
  {
   "cell_type": "code",
   "execution_count": null,
   "id": "25e1e3f7-8e19-4c2e-a3a9-c6e9f5c1ba93",
   "metadata": {},
   "outputs": [],
   "source": []
  }
 ],
 "metadata": {
  "kernelspec": {
   "display_name": "Python [conda env:pygmt]",
   "language": "python",
   "name": "conda-env-pygmt-py"
  },
  "language_info": {
   "codemirror_mode": {
    "name": "ipython",
    "version": 3
   },
   "file_extension": ".py",
   "mimetype": "text/x-python",
   "name": "python",
   "nbconvert_exporter": "python",
   "pygments_lexer": "ipython3",
   "version": "3.8.8"
  }
 },
 "nbformat": 4,
 "nbformat_minor": 5
}
